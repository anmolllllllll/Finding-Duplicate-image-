{
  "nbformat": 4,
  "nbformat_minor": 0,
  "metadata": {
    "colab": {
      "provenance": []
    },
    "kernelspec": {
      "name": "python3",
      "display_name": "Python 3"
    },
    "language_info": {
      "name": "python"
    },
    "gpuClass": "standard"
  },
  "cells": [
    {
      "cell_type": "markdown",
      "source": [
        "#Serial processing"
      ],
      "metadata": {
        "id": "1PF0Ejk08p8A"
      }
    },
    {
      "cell_type": "code",
      "source": [
        "import cv2\n",
        "import numpy as np\n",
        "import glob\n",
        "import time\n",
        "import multiprocessing\n",
        "import threading\n",
        "from os import path\n",
        "\n",
        "# setting up path\n",
        "basepath = path.dirname('/content/image_Database')\n",
        "\n",
        "# loading environment\n",
        "image_path = path.abspath(path.join(basepath,  \"berlin_1583556_1.jpg\"))\n",
        "\n",
        "\n",
        "\"\"\"\n",
        "Sequentiall on single core\n",
        "\"\"\"\n",
        "\n",
        "def filebrowser(ext='', directory=''):\n",
        "    \"\"\"\n",
        "    returns files with an extension\n",
        "    \"\"\"\n",
        "    return [f for f in glob.glob(f\"{directory}**/*{ext}\", recursive=True)]\n",
        "\n",
        "image_dir = filebrowser(ext='.jpeg', directory='')\n",
        "image_dir += filebrowser(ext='.jpg', directory='')\n",
        "\n",
        "\n",
        "original = cv2.imread(image_path)\n",
        "\n",
        "\n",
        "start_time = time.time()\n",
        "\n",
        "for image_ in image_dir:\n",
        "    try:\n",
        "        image_to_compare = cv2.imread(image_)\n",
        "        if original.shape == image_to_compare.shape:\n",
        "\n",
        "            difference = cv2.subtract(original, image_to_compare)\n",
        "            b, g, r = cv2.split(difference)\n",
        "\n",
        "            if cv2.countNonZero(b) == 0 and cv2.countNonZero(g) == 0 and cv2.countNonZero(r) == 0:\n",
        "                print(f'Duplicates Found: {image_path} is Duplicate of {image_}')\n",
        "\n",
        "\n",
        "                sift = cv2.SIFT_create()\n",
        "                kp_1, desc_1 = sift.detectAndCompute(original, None)\n",
        "                kp_2, desc_2 = sift.detectAndCompute(image_to_compare, None)\n",
        "\n",
        "                index_params = dict(algorithm=0, trees=5)\n",
        "                search_params = dict()\n",
        "                flann = cv2.FlannBasedMatcher(index_params, search_params)\n",
        "\n",
        "                matches = flann.knnMatch(desc_1, desc_2, k=2)\n",
        "\n",
        "                good_points = []\n",
        "                for m, n in matches:\n",
        "                    if m.distance < 0.6*n.distance:\n",
        "                        good_points.append(m)\n",
        "\n",
        "                # Define how similar they are\n",
        "                number_keypoints = 0\n",
        "                if len(kp_1) <= len(kp_2):\n",
        "                    number_keypoints = len(kp_1)\n",
        "                else:\n",
        "                    number_keypoints = len(kp_2)\n",
        "    except Exception as e:\n",
        "        print('[!] {}'.format(e))\n",
        "\n",
        "\n",
        "\n",
        "print(\"--- %s seconds ---\" % (time.time() - start_time))\n",
        "print('Program Executed Completely')"
      ],
      "metadata": {
        "colab": {
          "base_uri": "https://localhost:8080/"
        },
        "id": "2Arcu2a76VPq",
        "outputId": "2b06dd81-fadb-450a-a109-e385a56bd67c"
      },
      "execution_count": 8,
      "outputs": [
        {
          "output_type": "stream",
          "name": "stdout",
          "text": [
            "Duplicates Found: /content/berlin_1583556_1.jpg is Duplicate of berlin_1583556_1.jpg\n",
            "Duplicates Found: /content/berlin_1583556_1.jpg is Duplicate of image_Database/berlin_1583556_1.jpg\n",
            "--- 5.341902256011963 seconds ---\n",
            "Program Executed Completely\n"
          ]
        }
      ]
    },
    {
      "cell_type": "markdown",
      "source": [
        "#Parallel processing"
      ],
      "metadata": {
        "id": "OIUkh7zq8ybU"
      }
    },
    {
      "cell_type": "code",
      "source": [
        "import cv2\n",
        "import numpy as np\n",
        "import glob\n",
        "import time\n",
        "import multiprocessing\n",
        "from os import path\n",
        "\n",
        "# setting up path\n",
        "basepath = path.dirname('/content/image_Database/')\n",
        "\n",
        "# loading environment\n",
        "image_path = path.abspath(path.join(basepath,  \"berlin_37836_1 - Copy (2).jpg\"));\n",
        "\n",
        "\"\"\"\n",
        "Multiprocessing\n",
        "\"\"\"\n",
        "\n",
        "original = cv2.imread(image_path)\n",
        "\n",
        "\n",
        "\n",
        "def find_duplicates(image_):\n",
        "        duplicates = ''\n",
        "        try:\n",
        "            image_to_compare = cv2.imread(image_)\n",
        "            if original.shape == image_to_compare.shape:\n",
        "                difference = cv2.subtract(original, image_to_compare)\n",
        "                b, g, r = cv2.split(difference)\n",
        "\n",
        "                if cv2.countNonZero(b) == 0 and cv2.countNonZero(g) == 0 and cv2.countNonZero(r) == 0:\n",
        "                    duplicates = image_\n",
        "\n",
        "\n",
        "                    sift = cv2.SIFT_create()\n",
        "                    kp_1, desc_1 = sift.detectAndCompute(original, None)\n",
        "                    kp_2, desc_2 = sift.detectAndCompute(image_to_compare, None)\n",
        "\n",
        "                    index_params = dict(algorithm=0, trees=5)\n",
        "                    search_params = dict()\n",
        "                    flann = cv2.FlannBasedMatcher(index_params, search_params)\n",
        "\n",
        "                    matches = flann.knnMatch(desc_1, desc_2, k=2)\n",
        "\n",
        "                    good_points = []\n",
        "                    for m, n in matches:\n",
        "                        if m.distance < 0.6*n.distance:\n",
        "                            good_points.append(m)\n",
        "\n",
        "                    # Define how similar they are\n",
        "                    number_keypoints = 0\n",
        "                    if len(kp_1) <= len(kp_2):\n",
        "                        number_keypoints = len(kp_1)\n",
        "                    else:\n",
        "                        number_keypoints = len(kp_2)\n",
        "\n",
        "                    return duplicates\n",
        "\n",
        "        except Exception as e:\n",
        "            print('[!] {}'.format(e))\n",
        "\n",
        "\n",
        "\n",
        "if __name__ == '__main__':\n",
        "\n",
        "\n",
        "    def filebrowser(ext='', directory=''):\n",
        "        \"\"\"\n",
        "        returns files with an extension\n",
        "        \"\"\"\n",
        "        return [f for f in glob.glob(f\"{directory}**/*{ext}\", recursive=True)]\n",
        "\n",
        "    image_dir = filebrowser(ext='.jpeg', directory='') # directory='' ==> search images from current to inner sub-directories\n",
        "    image_dir += filebrowser(ext='.jpg', directory='')\n",
        "    ## print(image_dir)\n",
        "\n",
        "\n",
        "    # # 1) Check if 2 images are equals | parallel on cores\n",
        "    start_time = time.time()\n",
        "    pool = multiprocessing.Pool() # Equal to number of cores | octa for this pc\n",
        "\n",
        "\n",
        "    inputs = image_dir\n",
        "    outputs_async = pool.map_async(find_duplicates, inputs)\n",
        "    print(outputs_async.get())\n",
        "\n",
        "    print(\"--- %s seconds ---\" % (time.time() - start_time))\n",
        "    print('Program Executed Completely')\n"
      ],
      "metadata": {
        "colab": {
          "base_uri": "https://localhost:8080/"
        },
        "id": "pBY6qpL55Tgm",
        "outputId": "6755053a-7d06-406a-bd5a-c0c4692d7429"
      },
      "execution_count": 10,
      "outputs": [
        {
          "output_type": "stream",
          "name": "stdout",
          "text": [
            "['berlin_37836_1 - Copy (2).jpg', None, None, None, 'image_Database/berlin_37836_1 - Copy (3).jpg', None, None, None, None, None, 'image_Database/berlin_37836_1 - Copy (5).jpg', 'image_Database/berlin_37836_1 - Copy (4).jpg', None, 'image_Database/berlin_37836_1 - Copy.jpg', 'image_Database/berlin_37836_1 - Copy (2).jpg', None, 'image_Database/berlin_37836_1.jpg', None, None, 'image_Database/berlin_37836_1 - Copy (8).jpg', 'image_Database/berlin_37836_1 - Copy (6).jpg', None, None, 'image_Database/berlin_37836_1 - Copy (7).jpg']\n",
            "--- 17.876611471176147 seconds ---\n",
            "Program Executed Completely\n"
          ]
        }
      ]
    }
  ]
}